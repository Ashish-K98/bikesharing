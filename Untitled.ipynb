{
 "cells": [
  {
   "cell_type": "code",
   "execution_count": 1,
   "id": "6c5d5ccb",
   "metadata": {},
   "outputs": [
    {
     "name": "stderr",
     "output_type": "stream",
     "text": [
      "2024-12-29 16:37:30.714 \n",
      "  \u001b[33m\u001b[1mWarning:\u001b[0m to view this Streamlit app on a browser, run it with the following\n",
      "  command:\n",
      "\n",
      "    streamlit run C:\\Users\\ashis\\anaconda3\\lib\\site-packages\\ipykernel_launcher.py [ARGUMENTS]\n"
     ]
    }
   ],
   "source": [
    "import streamlit as st\n",
    "\n",
    "def main():\n",
    "    st.title(\"Alphanumeric Form\")\n",
    "\n",
    "    # Create a form\n",
    "    with st.form(\"alphanumeric_form\"):\n",
    "        st.subheader(\"Please fill in the details\")\n",
    "\n",
    "        # Add fields for alphanumeric values\n",
    "        field_1 = st.text_input(\"Enter Alphanumeric Value 1:\")\n",
    "        field_2 = st.text_input(\"Enter Alphanumeric Value 2:\")\n",
    "        field_3 = st.text_input(\"Enter Alphanumeric Value 3:\")\n",
    "\n",
    "        # Submit button\n",
    "        submitted = st.form_submit_button(\"Submit\")\n",
    "\n",
    "        if submitted:\n",
    "            if not all(x.isalnum() for x in [field_1, field_2, field_3]):\n",
    "                st.error(\"All fields must contain only alphanumeric values.\")\n",
    "            else:\n",
    "                st.success(\"Form submitted successfully!\")\n",
    "                st.write(\"Entered Values:\")\n",
    "                st.write(f\"Value 1: {field_1}\")\n",
    "                st.write(f\"Value 2: {field_2}\")\n",
    "                st.write(f\"Value 3: {field_3}\")\n",
    "\n",
    "if __name__ == \"__main__\":\n",
    "    main()\n"
   ]
  },
  {
   "cell_type": "code",
   "execution_count": null,
   "id": "f357ad67",
   "metadata": {},
   "outputs": [],
   "source": []
  }
 ],
 "metadata": {
  "kernelspec": {
   "display_name": "Python 3 (ipykernel)",
   "language": "python",
   "name": "python3"
  },
  "language_info": {
   "codemirror_mode": {
    "name": "ipython",
    "version": 3
   },
   "file_extension": ".py",
   "mimetype": "text/x-python",
   "name": "python",
   "nbconvert_exporter": "python",
   "pygments_lexer": "ipython3",
   "version": "3.9.13"
  }
 },
 "nbformat": 4,
 "nbformat_minor": 5
}
